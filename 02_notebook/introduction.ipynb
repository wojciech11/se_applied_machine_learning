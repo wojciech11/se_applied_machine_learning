{
 "cells": [
  {
   "cell_type": "markdown",
   "id": "ca56f72f-50f5-41e1-afd3-98fe72a5d57c",
   "metadata": {},
   "source": [
    "# Wprowadzenie 2/3"
   ]
  },
  {
   "cell_type": "markdown",
   "id": "8b7bbfea-64f4-46ed-a7f4-05adc8f6f607",
   "metadata": {},
   "source": [
    "Nasze zajęcia na dzisiaj:\n",
    "    \n",
    "1. Dane Treningowe i Testowe,\n",
    "2. Przygotowanie algorytmów klasyfikacja i etykiety,\n",
    "3. Algorytmy Supervised Learning\n",
    "4. Przykłady algorytmów i ich zastosowania"
   ]
  },
  {
   "cell_type": "markdown",
   "id": "29f4fb55-b569-4815-ac24-d8fae20ab952",
   "metadata": {},
   "source": [
    "## Praktyczny ML\n",
    "\n",
    "### Drivetrain Approach"
   ]
  },
  {
   "cell_type": "markdown",
   "id": "c87bf631-a12a-45ff-90a2-0339166a7598",
   "metadata": {},
   "source": [
    "![](https://raw.githubusercontent.com/fastai/fastbook/823b69e00aa1e1c1a45fe88bd346f11e8f89c1ff//images/drivetrain-approach.png)\n",
    "\n",
    "Na podstawie [fastbook](https://github.com/fastai/fastbook/blob/master/02_production.ipynb)"
   ]
  },
  {
   "cell_type": "markdown",
   "id": "a24a5c8e-c847-4254-8c39-98fbd2e8b009",
   "metadata": {},
   "source": [
    "Tak jak każdy projekt ML powienien mieć jasno określony cel, który pozwoli na jego efektywne zaimplementowanie."
   ]
  },
  {
   "cell_type": "markdown",
   "id": "4b2399fb-dfa0-4d05-b651-286e98b86018",
   "metadata": {
    "tags": []
   },
   "source": [
    "## Tracer-bullet approach"
   ]
  },
  {
   "cell_type": "markdown",
   "id": "d9705147-fece-43be-95c2-b0baed48f9b2",
   "metadata": {},
   "source": [
    "Czyli jak najszybciej staramy się uruchomić nasz pipeline dla algorytmu, żeby:\n",
    "\n",
    "1. Mieć punkt odniesienia dla zmian,\n",
    "2. Poznać lepiej domenę,\n",
    "3. Analizując przykłady danych dla których nasz algorytm się najgoszej sprawdza (największy *loss*), często wskazuje na problemy z danymi lub naszym zrozumieniem problemu."
   ]
  },
  {
   "cell_type": "markdown",
   "id": "7d0077cd-11cf-470e-8b70-52908508bc69",
   "metadata": {},
   "source": [
    "## Dane"
   ]
  },
  {
   "cell_type": "markdown",
   "id": "fabb7378-2226-4e11-b43e-3fbaff5505a3",
   "metadata": {},
   "source": [
    "```{mermaid}\n",
    "flowchart LR\n",
    "  TD(Training\\nData) -- trenujemy\\n/uczymy --> TM[Trenowanie\\nModelu]\n",
    "  VD(Validation\\nData) -- czy idziemy\\nw dobra strone? --> TM\n",
    "  \n",
    "  TM --> M(Model)\n",
    "  \n",
    "  M --> SM[Sprawdzenie\\nModelu]\n",
    "  \n",
    "  \n",
    "  TeD(Test\\nData) -- jak sprawdza się\\nna nieznanych danych --> SM\n",
    "  \n",
    "  SM --> Metryki(Metryki)\n",
    "```"
   ]
  },
  {
   "cell_type": "markdown",
   "id": "6038f6c2-31bf-4793-a812-7cf58bc23f38",
   "metadata": {},
   "source": [
    "## Typy Danych\n",
    "\n",
    "Mamy:\n",
    "\n",
    "1. **Dane Treningowe**, czasami mówimy o danych treningowych jako dane uczące i validacyjne, czasami narzędzia, które będziemy używać będą wewnętrznie obsługiwać podział dane do trenowania i walidacji.\n",
    "2. **Dane Walidacyjne**, pozwalają nam dać feedback dla algorytmu uczącego, a propos jakości wyników.\n",
    "3. **Dane Testowe**, dane, które nasz algorytm nie widział i nie miał okazji się nauczyć."
   ]
  },
  {
   "cell_type": "markdown",
   "id": "cff1b400-8cda-406c-864a-8b75cbeb706a",
   "metadata": {},
   "source": [
    "## Klasyfikacja i Etykiety\n",
    "\n",
    "Po angielsku `label`, dodatkowa informacja wyjaśniająca co wiersz danych, zestaw pikseli, lub fragment piosenki oznacza. Etykiety są tym co chcemy przewidzieć na podstawie danych, które ją reprezentują. Celem algorytmów klasyfikacji jest właśne znalezienie sposobu rozpoznania etykiety na podstawie danych wejściowych."
   ]
  },
  {
   "cell_type": "markdown",
   "id": "8c20a573-2863-49d5-8b3f-bc0c4b3bb273",
   "metadata": {},
   "source": [
    "```{mermaid}\n",
    "\n",
    "flowchart LR\n",
    "  Dane_1(x11,x12, x13, x14) --> Etykieta_1(\"Label 1 (y)\")\n",
    "  Dane_2(x21,x22, x23, x14) --> Etykieta_1\n",
    "  \n",
    "  Dane_3(x31,x32, x33, x34) --> Etykieta_2(\"Label 2 (y)\")\n",
    "```\n",
    "\n",
    "**Algorytmy klasyfikacji**"
   ]
  },
  {
   "cell_type": "markdown",
   "id": "86cb0a3a-6f5e-42e2-81c5-ade461412ef0",
   "metadata": {},
   "source": [
    "## Funkcje w popularnych biblioteki ML / DS\n",
    "\n",
    "### scikit-learn\n",
    "\n",
    "Na przykład bibliotek [scikit-learn](https://scikit-learn.org/stable/) dostarcza nam funkcję `train_test_split` ([dokumentacja](https://scikit-learn.org/stable/modules/generated/sklearn.model_selection.train_test_split.html)).\n",
    "\n",
    "Jeśli zaleźy nam na losowym wybraniu zbiorów testowych i treningowych wystarczy:\n",
    "\n",
    "```python\n",
    "X_train, X_test, y_train, y_test = train_test_split(\n",
    "    X, y, test_size=0.2\n",
    ")\n",
    "```\n",
    "\n",
    "Jeśli chcemy się upewnić, że mamy zarówno w danych testowych oraz trenujacych reprezentacje dla każdej klasy, jeśli przygotowujemy dane do wytrenowania algorytmu do klasyfikacji:\n",
    "\n",
    "```python\n",
    "X_train, X_test, y_train, y_test = train_test_split(\n",
    "    X, y, test_size=0.2, random_state=22, stratify=y\n",
    ")\n",
    "```\n",
    "\n",
    "Musimy upewnić się, że zarówno X i y mają reprezentantów każdej z klasy (etykiety), inaczej albo nasz model nie będzie w stanie obsłużyć danej klasy, albo nie będziemy w stanie pomierzyć efektywności naszego algorytmu."
   ]
  },
  {
   "cell_type": "markdown",
   "id": "a9273538-18de-4c59-8681-c38d96aac11e",
   "metadata": {},
   "source": [
    "## fastai\n",
    "\n",
    "W przypadku [fastai](https://docs.fast.ai/data.load.html), [DataBlock](https://docs.fast.ai/data.block.html) ([dokumentacja na temat transformacji danych](https://docs.fast.ai/data.transforms.html)) daje nam logikę do wyznaczenia `X`, `y` oraz rozdzielenia danych na validacyjne i do trenowania.\n",
    "\n",
    "```python\n",
    "DataBlock(\n",
    "    blocks=(TextBlock.from_df(\"full_text\", vocab=dls_lm.vocab), CategoryBlock), # funkcje do transformacji danych\n",
    "    get_x=ColReader(\"text\"), # co jest X\n",
    "    get_y=ColReader(\"category\"), # co jest y\n",
    "    splitter=ColSplitter(\"is_valid\")) # ktore wiersze beda train, a ktore valid\n",
    "```\n",
    "\n"
   ]
  },
  {
   "cell_type": "markdown",
   "id": "64fca380-2aea-4605-8f3c-8e86aaf7301f",
   "metadata": {},
   "source": [
    "## Praca z danymi, transformacje i feature engineering"
   ]
  },
  {
   "cell_type": "markdown",
   "id": "7e806dcc-fae6-4597-a232-cd803381b174",
   "metadata": {},
   "source": [
    "Zauważ: zazwyczaj w pierwszej iteracji, na mniejszej ilości danych, wyprobowyjemy jeden z algorytmów, który wiemy, że może dać nam dobre wyniki. Daje nam to punkt odniesienia, dla poprawy danych czy też wypróbowywania różnych algorytmów."
   ]
  },
  {
   "cell_type": "markdown",
   "id": "1c58e6aa-d8bc-4059-9792-e01af77711bb",
   "metadata": {},
   "source": [
    "### Problemy"
   ]
  },
  {
   "cell_type": "markdown",
   "id": "ce29bf13-34df-400e-8ecb-9cd482a880ed",
   "metadata": {},
   "source": [
    "```{mermaid}\n",
    "\n",
    "flowchart LR\n",
    "   PBW(Brakujace\\nwartości) --> Problemy(Problemy z danymi)\n",
    "   PBR(Dziwne\\nreprezentacje pustych wartości) --> Problemy\n",
    "   PBO(Wartości\\nodstające) --> Problemy\n",
    "   PBZ(Zakresy wartości\\ndanych wejściowych) --> Problemy\n",
    "   PB(Brak wystarczająco\\nreprezentantów dla danej klasy) --> Problemy\n",
    "   \n",
    "```"
   ]
  },
  {
   "cell_type": "markdown",
   "id": "93d82b4b-955c-463a-b6dd-1ff248e201df",
   "metadata": {},
   "source": [
    "W świecie idealnym:\n",
    "\n",
    "- dane są kompletne, a w przypadku problemów klasyfikacji, mamy przykłady dla każdej z etykiet/klas;\n",
    "- nie mamy braków, pustych wartości, dziwnych znaczników, np., NULL, null, ... itp;\n",
    "- dane są w podobnych zakresach, np., 1-10, bez outlinerów.\n",
    "\n",
    "taaaa... "
   ]
  },
  {
   "cell_type": "markdown",
   "id": "d431d65d-178b-473b-8388-5dbfe0de73be",
   "metadata": {},
   "source": [
    "### Zagrożenia w produkcji\n",
    "\n",
    "Warto zdawać sobie sprawę, model w produkcji wymaga od nas szczególnej uwagi, ze względu na zagrożenia:\n",
    "\n",
    "```{mermaid}\n",
    "\n",
    "flowchart LR\n",
    "   Bias(Bias) --> Z(\"Zagrożenia\")\n",
    "   MR(\"model rot\") --> Z\n",
    "   FL(\"Feedback loops\") --> Z\n",
    "   OD(\"out-of-domain data\") --> Z\n",
    "```\n"
   ]
  },
  {
   "cell_type": "markdown",
   "id": "f4c44588-09a0-4f58-ba92-892f1cc86552",
   "metadata": {},
   "source": [
    "Zagrożenia w produkcji:\n",
    "\n",
    "- bias - nasz dataset może być tendencyjny, np., trenowanie rozpoznawania anglieskiego poza szkocją czy NZ\n",
    "- model rot - nasze dane trenujące nie odpowiadają rzeczywistości w której model operatuje\n",
    "- feedback loops - sugerujemy się obecnymi wynikami modelu w doborze danych do dotrenowania\n",
    "- out-of-domain data - dane, których nie widzieliśmy nigdy wcześniej"
   ]
  },
  {
   "cell_type": "markdown",
   "id": "382d8b4c-e3e7-4453-a9aa-da57e2ffb0f6",
   "metadata": {},
   "source": [
    "### Rollout\n",
    "\n",
    "\n",
    "Dlatego rollout nowego modelu powinien być uważnie monitorowany:"
   ]
  },
  {
   "cell_type": "markdown",
   "id": "8187161a-2be3-4fd4-95e2-3e62bdf0fb09",
   "metadata": {},
   "source": [
    "![](https://raw.githubusercontent.com/fastai/fastbook/823b69e00aa1e1c1a45fe88bd346f11e8f89c1ff//images/att_00061.png){width=40%}"
   ]
  },
  {
   "cell_type": "markdown",
   "id": "2a07c625-cb7b-4c16-b1d3-f55ec38865a8",
   "metadata": {},
   "source": [
    "## Prace z danymi"
   ]
  },
  {
   "cell_type": "markdown",
   "id": "e0c21877-e555-43f4-aff8-640b357eb093",
   "metadata": {},
   "source": [
    "Na szczęście większość bibliotek dostarcza nam gotowe funkcję, większość bibliotek pozwala nam budować pipeline-y, które łączą z sobą wiele funkcjonalności."
   ]
  },
  {
   "cell_type": "markdown",
   "id": "2faeb55a-41f3-490a-893d-1cd8818c7885",
   "metadata": {},
   "source": [
    "Zobaczmy na przykładzie... "
   ]
  },
  {
   "cell_type": "markdown",
   "id": "c34960e7-db62-43ff-8329-22389acb8320",
   "metadata": {},
   "source": [
    "xxxxxxx panda z danymi kat i numerycznymi\n"
   ]
  },
  {
   "cell_type": "code",
   "execution_count": 23,
   "id": "cbea9b3d-0556-49f7-8380-0d8d4eb1b857",
   "metadata": {},
   "outputs": [],
   "source": [
    "# explicit"
   ]
  },
  {
   "cell_type": "code",
   "execution_count": 24,
   "id": "75610b25-05f2-4f5c-8f5d-b3f2a7e4076c",
   "metadata": {},
   "outputs": [],
   "source": [
    "# transofrmator"
   ]
  },
  {
   "cell_type": "code",
   "execution_count": 25,
   "id": "270a1b4b-f000-456c-a38a-220c54e4185e",
   "metadata": {},
   "outputs": [],
   "source": [
    "# uzupełnianie pustych"
   ]
  },
  {
   "cell_type": "code",
   "execution_count": 26,
   "id": "5394ae42-a25f-469a-b33f-ea417a8e1472",
   "metadata": {},
   "outputs": [],
   "source": [
    "# encoder"
   ]
  },
  {
   "cell_type": "code",
   "execution_count": 27,
   "id": "5bceb573-f98c-4551-9386-b29863233942",
   "metadata": {},
   "outputs": [],
   "source": [
    "# wolne!"
   ]
  },
  {
   "cell_type": "markdown",
   "id": "d6288c6f-3b7b-4e7a-b296-b84910ac3f96",
   "metadata": {},
   "source": [
    "\n",
    "Na szczęście większość bibliotek dostarcza nam gotowe funkcje od których możemy zacząć:"
   ]
  },
  {
   "cell_type": "code",
   "execution_count": 19,
   "id": "f8ebacd5-bc2b-4419-8e3b-128de9ec0f55",
   "metadata": {},
   "outputs": [],
   "source": [
    "## Przykłady kodu"
   ]
  },
  {
   "cell_type": "code",
   "execution_count": 20,
   "id": "e3cfdc3a-9eb2-4290-80c7-205515e5f5b1",
   "metadata": {},
   "outputs": [
    {
     "name": "stdout",
     "output_type": "stream",
     "text": [
      "Requirement already satisfied: scikit-learn in /usr/local/Caskroom/miniconda/base/envs/teaching_appl_ml_02/lib/python3.12/site-packages (1.3.2)\n",
      "Requirement already satisfied: numpy<2.0,>=1.17.3 in /usr/local/Caskroom/miniconda/base/envs/teaching_appl_ml_02/lib/python3.12/site-packages (from scikit-learn) (1.26.1)\n",
      "Requirement already satisfied: scipy>=1.5.0 in /usr/local/Caskroom/miniconda/base/envs/teaching_appl_ml_02/lib/python3.12/site-packages (from scikit-learn) (1.11.3)\n",
      "Requirement already satisfied: joblib>=1.1.1 in /usr/local/Caskroom/miniconda/base/envs/teaching_appl_ml_02/lib/python3.12/site-packages (from scikit-learn) (1.3.2)\n",
      "Requirement already satisfied: threadpoolctl>=2.0.0 in /usr/local/Caskroom/miniconda/base/envs/teaching_appl_ml_02/lib/python3.12/site-packages (from scikit-learn) (3.2.0)\n",
      "Note: you may need to restart the kernel to use updated packages.\n"
     ]
    }
   ],
   "source": [
    "%pip install -U scikit-learn"
   ]
  },
  {
   "cell_type": "code",
   "execution_count": 16,
   "id": "19771f9a-1716-4f87-ad79-2c482c9b345b",
   "metadata": {},
   "outputs": [],
   "source": [
    "from sklearn.model_selection import train_test_split"
   ]
  },
  {
   "cell_type": "code",
   "execution_count": null,
   "id": "703d2172-5eb0-476d-a1ab-09524fa909ea",
   "metadata": {},
   "outputs": [],
   "source": []
  },
  {
   "cell_type": "code",
   "execution_count": 17,
   "id": "77eb69cb-422e-4b82-a3bb-d1574afeab28",
   "metadata": {
    "slideshow": {
     "slide_type": "slide"
    },
    "tags": []
   },
   "outputs": [
    {
     "ename": "NameError",
     "evalue": "name 'X' is not defined",
     "output_type": "error",
     "traceback": [
      "\u001b[0;31m---------------------------------------------------------------------------\u001b[0m",
      "\u001b[0;31mNameError\u001b[0m                                 Traceback (most recent call last)",
      "Cell \u001b[0;32mIn[17], line 2\u001b[0m\n\u001b[1;32m      1\u001b[0m X_train, X_test, y_train, y_test \u001b[38;5;241m=\u001b[39m train_test_split(\n\u001b[0;32m----> 2\u001b[0m     \u001b[43mX\u001b[49m, y, test_size\u001b[38;5;241m=\u001b[39m\u001b[38;5;241m0.2\u001b[39m, random_state\u001b[38;5;241m=\u001b[39m\u001b[38;5;241m22\u001b[39m, stratify\u001b[38;5;241m=\u001b[39my\n\u001b[1;32m      3\u001b[0m )\n",
      "\u001b[0;31mNameError\u001b[0m: name 'X' is not defined"
     ]
    }
   ],
   "source": [
    "X_train, X_test, y_train, y_test = train_test_split(\n",
    "    X, y, test_size=0.2, random_state=22, stratify=y\n",
    ")"
   ]
  },
  {
   "cell_type": "code",
   "execution_count": null,
   "id": "6ff1d72a-e492-44eb-8747-ba43e3711620",
   "metadata": {},
   "outputs": [],
   "source": []
  },
  {
   "cell_type": "markdown",
   "id": "e2b3e492-15e5-4b33-899d-5756bef2c644",
   "metadata": {},
   "source": [
    "## Przykłady algorytmów"
   ]
  },
  {
   "cell_type": "markdown",
   "id": "e23e5270-40ca-48bb-ad4a-48e149943fc9",
   "metadata": {},
   "source": [
    "![](https://upload.wikimedia.org/wikipedia/commons/9/90/Task-guidance.png){width=30%}\n",
    "\n",
    "Źródło [wikipedia](https://en.wikipedia.org/wiki/Supervised_learning)"
   ]
  },
  {
   "cell_type": "markdown",
   "id": "d5458973-793d-440b-b0bf-3c227d4c49c0",
   "metadata": {},
   "source": [
    "### Supervised learning\n"
   ]
  },
  {
   "cell_type": "code",
   "execution_count": null,
   "id": "0081fcd1-70ba-4a93-b842-2c8235da831b",
   "metadata": {},
   "outputs": [],
   "source": []
  },
  {
   "cell_type": "markdown",
   "id": "3e1c80a9-6a52-464d-9f8b-fdd915a3f917",
   "metadata": {},
   "source": [
    "### Przykłady i zastosowanie"
   ]
  },
  {
   "cell_type": "code",
   "execution_count": null,
   "id": "805ba097-23df-407a-9a93-10bdb0bc36bb",
   "metadata": {},
   "outputs": [],
   "source": [
    "# x"
   ]
  },
  {
   "cell_type": "code",
   "execution_count": null,
   "id": "ee8eb55f-d94b-4592-9965-a6c045a99fd3",
   "metadata": {},
   "outputs": [],
   "source": []
  }
 ],
 "metadata": {
  "kernelspec": {
   "display_name": "Python 3 (ipykernel)",
   "language": "python",
   "name": "python3"
  },
  "language_info": {
   "codemirror_mode": {
    "name": "ipython",
    "version": 3
   },
   "file_extension": ".py",
   "mimetype": "text/x-python",
   "name": "python",
   "nbconvert_exporter": "python",
   "pygments_lexer": "ipython3",
   "version": "3.12.0"
  }
 },
 "nbformat": 4,
 "nbformat_minor": 5
}
