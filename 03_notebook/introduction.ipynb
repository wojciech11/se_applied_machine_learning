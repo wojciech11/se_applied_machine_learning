{
 "cells": [
  {
   "cell_type": "markdown",
   "id": "81cdd909-0170-4724-b28e-25073e176b53",
   "metadata": {},
   "source": [
    "# Wprowadzenie 3"
   ]
  },
  {
   "cell_type": "markdown",
   "id": "47909989-4c66-4d5a-b353-16296d7bf470",
   "metadata": {
    "tags": []
   },
   "source": [
    "Plan:\n",
    "- Przykłady klasyfikacji,\n",
    "- Przykłady regresji,\n",
    "- Modele i algorytmy,\n",
    "- Wybór modelu, wykorzystanie danych treninowych,\n",
    "- Podział Danych,\n",
    "- Metryki."
   ]
  },
  {
   "cell_type": "markdown",
   "id": "67edb7e1-9199-49d0-ac13-b5119340a8fb",
   "metadata": {},
   "source": [
    "## Przykłady klasyfikacji"
   ]
  },
  {
   "cell_type": "code",
   "execution_count": null,
   "id": "7f740f6a-eae3-4f21-ab4c-4d72c42b1a6f",
   "metadata": {},
   "outputs": [],
   "source": []
  },
  {
   "cell_type": "markdown",
   "id": "3a2b4bc2-db64-4720-8a63-d422a9f64d1f",
   "metadata": {},
   "source": [
    "## Modele i algorytmy"
   ]
  },
  {
   "cell_type": "code",
   "execution_count": null,
   "id": "1fea4b84-61a4-4704-b52f-367208ae7ecb",
   "metadata": {},
   "outputs": [],
   "source": []
  },
  {
   "cell_type": "markdown",
   "id": "58587e36-2489-4bac-93b7-e63bfd395679",
   "metadata": {},
   "source": [
    "## Przykłady regresji"
   ]
  },
  {
   "cell_type": "code",
   "execution_count": null,
   "id": "f81bf1c8-c247-4b39-8b23-d131775df4f8",
   "metadata": {},
   "outputs": [],
   "source": []
  },
  {
   "cell_type": "markdown",
   "id": "c2bbcfb3-f579-4c5c-8261-5f4b3b1cb711",
   "metadata": {},
   "source": [
    "## Biblioteki\n",
    "\n",
    "- [scikit-learn](https://scikit-learn.org/)\n",
    "- [fastai](https://docs.fast.ai/)\n",
    "- [huggingface](https://huggingface.co/)"
   ]
  },
  {
   "cell_type": "code",
   "execution_count": null,
   "id": "597c0843-8591-448b-b857-9c02c1fbbe05",
   "metadata": {},
   "outputs": [],
   "source": []
  },
  {
   "cell_type": "markdown",
   "id": "45409559-4fe8-4328-8e53-b6221ff12dab",
   "metadata": {},
   "source": [
    "## Przygotowanie danych 2\n",
    "\n",
    "Data Augmentation - generowanie większość ilości danych treningowych na podstawie posiadanych danych.\n"
   ]
  },
  {
   "cell_type": "code",
   "execution_count": null,
   "id": "a8b1a9b3-db18-40b9-abb3-684d1363658f",
   "metadata": {},
   "outputs": [],
   "source": []
  }
 ],
 "metadata": {
  "kernelspec": {
   "display_name": "Python 3 (ipykernel)",
   "language": "python",
   "name": "python3"
  },
  "language_info": {
   "codemirror_mode": {
    "name": "ipython",
    "version": 3
   },
   "file_extension": ".py",
   "mimetype": "text/x-python",
   "name": "python",
   "nbconvert_exporter": "python",
   "pygments_lexer": "ipython3",
   "version": "3.10.13"
  }
 },
 "nbformat": 4,
 "nbformat_minor": 5
}
